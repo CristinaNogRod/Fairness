{
 "cells": [
  {
   "cell_type": "markdown",
   "metadata": {},
   "source": [
    "# Fair Outlier Detector\n",
    "\n",
    "This notebook shows a simple example on how to use the `FairOD` model to detect anomalies taking into consideration fairness. We also compare a normal/base outlier detector (`BaseOD`) with the proposed model.\n",
    "\n",
    "Paper:\n"
   ]
  },
  {
   "cell_type": "code",
   "execution_count": 1,
   "metadata": {},
   "outputs": [],
   "source": [
    "import pandas as pd\n",
    "import numpy as np\n",
    "import tensorflow as tf\n",
    "import matplotlib.pyplot as plt\n",
    "from sklearn.model_selection import train_test_split\n",
    "\n",
    "import sys\n",
    "sys.path.append('../src')\n",
    "\n",
    "from fairsgod.losses import FairODLoss\n",
    "from fairsgod.fairod import OutlierDetector\n",
    "from fairsgod.fairod_sg import SGOutlierDetector\n",
    "from fairsgod import evaluation\n"
   ]
  },
  {
   "cell_type": "markdown",
   "metadata": {},
   "source": [
    "First we load,preprocess and split the credit dataset which contains information of customers credit cards. \n",
    "\n",
    "The protected variable (PV) is age where customers older than 25 form the majority group and those younger the minority group. The minority group under-represented.\n",
    "\n",
    "The outliers are those customers that default hence their label is Y=1."
   ]
  },
  {
   "cell_type": "code",
   "execution_count": 2,
   "metadata": {},
   "outputs": [],
   "source": [
    "# load credit\n",
    "credit_df = pd.read_csv('../datasets/proc/crafted_credit.csv')\n",
    "\n",
    "y_pv = credit_df[['OUTLIER','PV']]\n",
    "X = credit_df.drop(columns=['OUTLIER', 'AGE', 'PV'])\n",
    "\n",
    "X_train, X_test, y_pv_train, y_pv_test = train_test_split(X, y_pv, test_size=0.3, shuffle=True)\n",
    "\n",
    "pv_test = y_pv_test['PV']\n",
    "pv_train = y_pv_train['PV']\n",
    "y_test = y_pv_test['OUTLIER']"
   ]
  },
  {
   "cell_type": "code",
   "execution_count": 3,
   "metadata": {},
   "outputs": [
    {
     "data": {
      "text/html": [
       "<div>\n",
       "<style scoped>\n",
       "    .dataframe tbody tr th:only-of-type {\n",
       "        vertical-align: middle;\n",
       "    }\n",
       "\n",
       "    .dataframe tbody tr th {\n",
       "        vertical-align: top;\n",
       "    }\n",
       "\n",
       "    .dataframe thead th {\n",
       "        text-align: right;\n",
       "    }\n",
       "</style>\n",
       "<table border=\"1\" class=\"dataframe\">\n",
       "  <thead>\n",
       "    <tr style=\"text-align: right;\">\n",
       "      <th></th>\n",
       "      <th>LIMIT_BAL</th>\n",
       "      <th>AGE</th>\n",
       "      <th>BILL_AMT1</th>\n",
       "      <th>BILL_AMT2</th>\n",
       "      <th>BILL_AMT3</th>\n",
       "      <th>BILL_AMT4</th>\n",
       "      <th>BILL_AMT5</th>\n",
       "      <th>BILL_AMT6</th>\n",
       "      <th>PAY_AMT1</th>\n",
       "      <th>PAY_AMT2</th>\n",
       "      <th>...</th>\n",
       "      <th>PAY_6_-1</th>\n",
       "      <th>PAY_6_-2</th>\n",
       "      <th>PAY_6_0</th>\n",
       "      <th>PAY_6_2</th>\n",
       "      <th>PAY_6_3</th>\n",
       "      <th>PAY_6_4</th>\n",
       "      <th>PAY_6_5</th>\n",
       "      <th>PAY_6_6</th>\n",
       "      <th>PAY_6_7</th>\n",
       "      <th>PAY_6_8</th>\n",
       "    </tr>\n",
       "  </thead>\n",
       "  <tbody>\n",
       "    <tr>\n",
       "      <th>0</th>\n",
       "      <td>-0.832115</td>\n",
       "      <td>-0.738428</td>\n",
       "      <td>0.593918</td>\n",
       "      <td>0.532005</td>\n",
       "      <td>0.499606</td>\n",
       "      <td>0.634237</td>\n",
       "      <td>0.508760</td>\n",
       "      <td>0.571115</td>\n",
       "      <td>-1.000000</td>\n",
       "      <td>-0.681879</td>\n",
       "      <td>...</td>\n",
       "      <td>0</td>\n",
       "      <td>1</td>\n",
       "      <td>0</td>\n",
       "      <td>0</td>\n",
       "      <td>0</td>\n",
       "      <td>0</td>\n",
       "      <td>0</td>\n",
       "      <td>0</td>\n",
       "      <td>0</td>\n",
       "      <td>0</td>\n",
       "    </tr>\n",
       "    <tr>\n",
       "      <th>1</th>\n",
       "      <td>-0.222207</td>\n",
       "      <td>-0.588964</td>\n",
       "      <td>0.592961</td>\n",
       "      <td>0.530502</td>\n",
       "      <td>0.500993</td>\n",
       "      <td>0.637064</td>\n",
       "      <td>0.513098</td>\n",
       "      <td>0.573617</td>\n",
       "      <td>-1.000000</td>\n",
       "      <td>-0.647868</td>\n",
       "      <td>...</td>\n",
       "      <td>0</td>\n",
       "      <td>0</td>\n",
       "      <td>0</td>\n",
       "      <td>1</td>\n",
       "      <td>0</td>\n",
       "      <td>0</td>\n",
       "      <td>0</td>\n",
       "      <td>0</td>\n",
       "      <td>0</td>\n",
       "      <td>0</td>\n",
       "    </tr>\n",
       "    <tr>\n",
       "      <th>2</th>\n",
       "      <td>-0.340833</td>\n",
       "      <td>-0.126025</td>\n",
       "      <td>0.610132</td>\n",
       "      <td>0.541779</td>\n",
       "      <td>0.507072</td>\n",
       "      <td>0.644415</td>\n",
       "      <td>0.523736</td>\n",
       "      <td>0.581394</td>\n",
       "      <td>-0.574467</td>\n",
       "      <td>-0.607786</td>\n",
       "      <td>...</td>\n",
       "      <td>0</td>\n",
       "      <td>0</td>\n",
       "      <td>1</td>\n",
       "      <td>0</td>\n",
       "      <td>0</td>\n",
       "      <td>0</td>\n",
       "      <td>0</td>\n",
       "      <td>0</td>\n",
       "      <td>0</td>\n",
       "      <td>0</td>\n",
       "    </tr>\n",
       "  </tbody>\n",
       "</table>\n",
       "<p>3 rows × 92 columns</p>\n",
       "</div>"
      ],
      "text/plain": [
       "   LIMIT_BAL       AGE  BILL_AMT1  BILL_AMT2  BILL_AMT3  BILL_AMT4  BILL_AMT5  \\\n",
       "0  -0.832115 -0.738428   0.593918   0.532005   0.499606   0.634237   0.508760   \n",
       "1  -0.222207 -0.588964   0.592961   0.530502   0.500993   0.637064   0.513098   \n",
       "2  -0.340833 -0.126025   0.610132   0.541779   0.507072   0.644415   0.523736   \n",
       "\n",
       "   BILL_AMT6  PAY_AMT1  PAY_AMT2  ...  PAY_6_-1  PAY_6_-2  PAY_6_0  PAY_6_2  \\\n",
       "0   0.571115 -1.000000 -0.681879  ...         0         1        0        0   \n",
       "1   0.573617 -1.000000 -0.647868  ...         0         0        0        1   \n",
       "2   0.581394 -0.574467 -0.607786  ...         0         0        1        0   \n",
       "\n",
       "   PAY_6_3  PAY_6_4  PAY_6_5  PAY_6_6  PAY_6_7  PAY_6_8  \n",
       "0        0        0        0        0        0        0  \n",
       "1        0        0        0        0        0        0  \n",
       "2        0        0        0        0        0        0  \n",
       "\n",
       "[3 rows x 92 columns]"
      ]
     },
     "execution_count": 3,
     "metadata": {},
     "output_type": "execute_result"
    }
   ],
   "source": [
    "credit_df.head(3)"
   ]
  },
  {
   "cell_type": "markdown",
   "metadata": {},
   "source": [
    "The idea behind the FairOD model is to detect outliers regardless of what group samples belong to, so we don't want to detect outlier in the minority group just because they are under-presented.\n",
    "\n",
    "The paper describes criteria to help carry out a fair detection. \n",
    "\n",
    "1. `Treatment Parity`: an outlier detection independent of the PV, achieved by not using the PV during training or detection. \n",
    "\n",
    "2. `Statistical Parity`: equal detection probability per PV group, achieved by minimising the correlation between the outlier score (or reconstruction error) and the PV.\n",
    "\n",
    "3. `Group Fidelity`: equal rate of true outliers detected, achived by enforcing the same ranking of outlier scores given by the BaseOD\n",
    "\n",
    "These last two are taken care of in the custom loss function:\n",
    "\n",
    "                        L  =  alpha * L_base  +  (1 - alpha) * L_sp  +  gamma * L_gf\n",
    "\n",
    "L_base: Reconstruction error (or outlier scores), in this notebook we will use the MSE\n",
    "\n",
    "L_sp: Statistical Parity term which aims to minimise the correlation between the outlier scores and the PV.\n",
    "        Thus, the probability of a sample being flagged as an outlier is the the same per PV group.\n",
    "\n",
    "L_gf: Group Fidelity term looks at enforcing the ranking of outlier scores of BaseOD so that TRUE outliers are detected with the same probability per group.\n"
   ]
  },
  {
   "cell_type": "markdown",
   "metadata": {},
   "source": [
    "Now, we build the models.\n",
    "\n",
    "The `FairOD` model is an autoencoder built for outlier detection in an unsupervised setting (don't use OUTLIER variable in training)."
   ]
  },
  {
   "cell_type": "code",
   "execution_count": 4,
   "metadata": {},
   "outputs": [],
   "source": [
    "n_inputs = len(X_train.columns)\n",
    "\n",
    "optimizer = tf.keras.optimizers.Adam()\n",
    "\n",
    "## BaseOD\n",
    "base_loss_fn = tf.keras.losses.MeanSquaredError()\n",
    "\n",
    "# create autoencoder \n",
    "inputs = tf.keras.Input(shape=(n_inputs,))\n",
    "encoder = tf.keras.layers.Dense(n_inputs)(inputs)\n",
    "embedding = tf.keras.layers.Dense(2)(encoder)\n",
    "decoder = tf.keras.layers.Dense(n_inputs, activation='linear')(embedding)\n",
    "baseOD = tf.keras.Model(inputs=inputs, outputs=decoder)\n",
    "\n",
    "# compile model\n",
    "baseOD.compile(optimizer=optimizer, loss=base_loss_fn)"
   ]
  },
  {
   "cell_type": "code",
   "execution_count": 5,
   "metadata": {},
   "outputs": [],
   "source": [
    "## FairOD\n",
    "fair_loss_fn = FairODLoss(alpha=0.1, gamma=0.1)\n",
    "\n",
    "# create autoencoder \n",
    "inputs = tf.keras.Input(shape=(n_inputs,))\n",
    "encoder = tf.keras.layers.Dense(n_inputs)(inputs)\n",
    "embedding = tf.keras.layers.Dense(2)(encoder)\n",
    "decoder = tf.keras.layers.Dense(n_inputs, activation='tanh')(embedding)\n",
    "fairOD = tf.keras.Model(inputs=inputs, outputs=decoder)\n",
    "\n",
    "# compile model\n",
    "fairOD.compile(optimizer=optimizer, loss=fair_loss_fn)"
   ]
  },
  {
   "cell_type": "markdown",
   "metadata": {},
   "source": [
    "**Train the BASE AUTOENCODER**"
   ]
  },
  {
   "cell_type": "code",
   "execution_count": 6,
   "metadata": {},
   "outputs": [
    {
     "data": {
      "text/plain": [
       "<matplotlib.legend.Legend at 0x7fb3d8b5df50>"
      ]
     },
     "execution_count": 6,
     "metadata": {},
     "output_type": "execute_result"
    },
    {
     "data": {
      "image/png": "[encoded data removed]",
      "text/plain": [
       "<Figure size 432x288 with 1 Axes>"
      ]
     },
     "metadata": {
      "needs_background": "light"
     },
     "output_type": "display_data"
    }
   ],
   "source": [
    "# Train baseOD\n",
    "epochs=20\n",
    "history = baseOD.fit(X_train, X_train, epochs=epochs, batch_size=256, validation_data=(X_test,X_test), verbose=0)\n",
    "\n",
    "plt.plot(history.history[\"loss\"], label=\"Training Loss\")\n",
    "plt.plot(history.history[\"val_loss\"], label=\"Test Loss\")\n",
    "plt.legend()"
   ]
  },
  {
   "cell_type": "markdown",
   "metadata": {},
   "source": [
    "Now, the **FairOD** version"
   ]
  },
  {
   "cell_type": "code",
   "execution_count": 10,
   "metadata": {},
   "outputs": [],
   "source": [
    "def training(X_train, pv_train, X_test, pv_test, model, optimizer, loss_fn, batch_size=256, epochs=10):\n",
    "\n",
    "    # Prepare datsets\n",
    "    train_dataset, val_dataset = prepare_dataset(X_train, pv_train, X_test, pv_test, batch_size)\n",
    "\n",
    "    # Initialise arrays to store losses during training and at validation\n",
    "    train_loss_results = np.zeros(shape=(epochs,), dtype=np.float32)\n",
    "    test_loss_results = np.zeros(shape=(epochs,), dtype=np.float32)\n",
    "\n",
    "    # TRAINING\n",
    "    for epoch in range(epochs):\n",
    "        # reset loss avg at each epoch\n",
    "        train_loss_avg = tf.keras.metrics.Mean()\n",
    "        test_loss_avg = tf.keras.metrics.Mean()\n",
    "\n",
    "        # Iterate over batches \n",
    "        for step, (X_batch_train, pv_batch_train) in enumerate(train_dataset):\n",
    "            with tf.GradientTape() as tape:\n",
    "                X_batch_pred = model(X_batch_train, training=True)\n",
    "                loss_value = loss_fn(X_batch_train, X_batch_pred, pv_batch_train)\n",
    "            grads = tape.gradient(loss_value, model.trainable_weights)\n",
    "            optimizer.apply_gradients(zip(grads, model.trainable_weights))\n",
    "\n",
    "            # Update avg loss\n",
    "            train_loss_avg(loss_value)\n",
    "\n",
    "        # Save training loss\n",
    "        train_loss_results[epoch] = train_loss_avg.result()\n",
    "\n",
    "        # Run a validation loop at the end of each epoch\n",
    "        for X_batch_test, pv_batch_test in val_dataset:\n",
    "            test_pred = model(X_batch_test, training=False)\n",
    "            test_loss_value = loss_fn(X_batch_test, test_pred, pv_batch_test)\n",
    "            # Update avg loss\n",
    "            test_loss_avg(test_loss_value)\n",
    "        # Save test loss\n",
    "        test_loss_results[epoch] = test_loss_avg.result()\n",
    "\n",
    "    return train_loss_results, test_loss_results\n",
    "\n",
    "\n",
    "def prepare_dataset(X_train, pv_train, X_test, pv_test, batch_size):\n",
    "    # Prepare training datsets\n",
    "    train_dataset = tf.data.Dataset.from_tensor_slices((X_train, pv_train))\n",
    "    train_dataset = train_dataset.batch(batch_size)\n",
    "\n",
    "    # Prepare validation dataset\n",
    "    val_dataset = tf.data.Dataset.from_tensor_slices((X_test, pv_test))\n",
    "    val_dataset = val_dataset.batch(batch_size)\n",
    "\n",
    "    return train_dataset, val_dataset\n",
    "\n",
    "\n",
    "\n",
    "def plot_losses(train_loss_results, test_loss_results):\n",
    "    # Plot losses during training and test\n",
    "    results = pd.DataFrame({'epochs': tf.linspace(1., len(test_loss_results), len(test_loss_results)), 'Test_Loss':test_loss_results, 'Train_Loss':train_loss_results})\n",
    "    plt.plot(results.epochs, results.Train_Loss, label='Training Loss')\n",
    "    plt.plot(results.epochs, results.Test_Loss, label='Test Loss')\n",
    "    plt.legend()\n",
    "    plt.xlabel('Epochs');\n",
    "    plt.ylabel('FairLoss');\n",
    "    plt.show()\n",
    "    return "
   ]
  },
  {
   "cell_type": "code",
   "execution_count": 11,
   "metadata": {},
   "outputs": [
    {
     "data": {
      "image/png": "[encoded data removed]",
      "text/plain": [
       "<Figure size 432x288 with 1 Axes>"
      ]
     },
     "metadata": {
      "needs_background": "light"
     },
     "output_type": "display_data"
    }
   ],
   "source": [
    "# Train fairOD\n",
    "train_results, test_results = training(X_train, pv_train, X_test, pv_test, \n",
    "                                        fairOD, optimizer, fair_loss_fn, batch_size=512, epochs=10)\n",
    "                    \n",
    "plot_losses(train_results, test_results)"
   ]
  },
  {
   "cell_type": "markdown",
   "metadata": {},
   "source": [
    "Pass the testing split of the dataset throught the models.\n",
    "Then compute the outlier scores: SUM( MSE(X_i) )."
   ]
  },
  {
   "cell_type": "code",
   "execution_count": 14,
   "metadata": {},
   "outputs": [],
   "source": [
    "# predict baseOD\n",
    "X_pred_base = baseOD.predict(X_test)\n",
    "\n",
    "# compute reconstruction error \n",
    "os_base = evaluation.compute_outlier_scores(X_test, X_pred_base)\n",
    "pred_df = pd.DataFrame({'OS_base':os_base, 'True_class': y_test})"
   ]
  },
  {
   "cell_type": "code",
   "execution_count": 16,
   "metadata": {},
   "outputs": [],
   "source": [
    "# predict fairOD\n",
    "X_pred_fair = fairOD.predict(X_test)\n",
    "\n",
    "# compute reconstruction error \n",
    "os_fair = evaluation.compute_outlier_scores(X_test, X_pred_fair)\n",
    "pred_df['OS_fair'] = os_fair"
   ]
  },
  {
   "cell_type": "markdown",
   "metadata": {},
   "source": [
    "Now that we have, the true outlier labels (y_test), the PV (pv_test) and the outlier scores for both models (os_base and os_fair), we can compute the fairness metrics and compare the models."
   ]
  },
  {
   "cell_type": "code",
   "execution_count": 18,
   "metadata": {},
   "outputs": [
    {
     "data": {
      "text/html": [
       "<div>\n",
       "<style scoped>\n",
       "    .dataframe tbody tr th:only-of-type {\n",
       "        vertical-align: middle;\n",
       "    }\n",
       "\n",
       "    .dataframe tbody tr th {\n",
       "        vertical-align: top;\n",
       "    }\n",
       "\n",
       "    .dataframe thead th {\n",
       "        text-align: right;\n",
       "    }\n",
       "</style>\n",
       "<table border=\"1\" class=\"dataframe\">\n",
       "  <thead>\n",
       "    <tr style=\"text-align: right;\">\n",
       "      <th></th>\n",
       "      <th>Metrics</th>\n",
       "      <th>baseOD</th>\n",
       "      <th>fairOD</th>\n",
       "      <th>In paper fairOD</th>\n",
       "    </tr>\n",
       "  </thead>\n",
       "  <tbody>\n",
       "    <tr>\n",
       "      <th>0</th>\n",
       "      <td>AP ratio</td>\n",
       "      <td>0.921336</td>\n",
       "      <td>0.929689</td>\n",
       "      <td>0.9-1.5</td>\n",
       "    </tr>\n",
       "    <tr>\n",
       "      <th>1</th>\n",
       "      <td>Precision ratio</td>\n",
       "      <td>0.857771</td>\n",
       "      <td>0.922526</td>\n",
       "      <td>0.9-1.5</td>\n",
       "    </tr>\n",
       "    <tr>\n",
       "      <th>2</th>\n",
       "      <td>Fairness</td>\n",
       "      <td>0.890188</td>\n",
       "      <td>0.929364</td>\n",
       "      <td>0.8-1</td>\n",
       "    </tr>\n",
       "    <tr>\n",
       "      <th>3</th>\n",
       "      <td>Group Fidelity</td>\n",
       "      <td>1.113167</td>\n",
       "      <td>1.111465</td>\n",
       "      <td>-</td>\n",
       "    </tr>\n",
       "    <tr>\n",
       "      <th>4</th>\n",
       "      <td>Rank Agreement</td>\n",
       "      <td>1.000000</td>\n",
       "      <td>0.644807</td>\n",
       "      <td>0.4-1</td>\n",
       "    </tr>\n",
       "  </tbody>\n",
       "</table>\n",
       "</div>"
      ],
      "text/plain": [
       "           Metrics    baseOD    fairOD In paper fairOD\n",
       "0         AP ratio  0.921336  0.929689         0.9-1.5\n",
       "1  Precision ratio  0.857771  0.922526         0.9-1.5\n",
       "2         Fairness  0.890188  0.929364           0.8-1\n",
       "3   Group Fidelity  1.113167  1.111465               -\n",
       "4   Rank Agreement  1.000000  0.644807           0.4-1"
      ]
     },
     "execution_count": 18,
     "metadata": {},
     "output_type": "execute_result"
    }
   ],
   "source": [
    "base_metrics = [evaluation.compute_AP_ratio(y_test, os_base, pv_test), evaluation.compute_precision_ratio(y_test, os_base, pv_test),evaluation.compute_Fairness_metric(y_test, os_base, pv_test).numpy(), evaluation.compute_GF_metric(os_base, pv_test).numpy(), evaluation.compute_rankAgreement_metric(y_test, os_base, os_base)]\n",
    "fair_metrics = [evaluation.compute_AP_ratio(y_test, os_fair, pv_test), evaluation.compute_precision_ratio(y_test, os_fair, pv_test), evaluation.compute_Fairness_metric(y_test, os_fair, pv_test).numpy(), evaluation.compute_GF_metric(os_fair, pv_test).numpy(), evaluation.compute_rankAgreement_metric(y_test, os_base, os_fair)]\n",
    "\n",
    "results = pd.DataFrame()\n",
    "results['Metrics'] = ['AP ratio', 'Precision ratio', 'Fairness', 'Group Fidelity', 'Rank Agreement']\n",
    "results['baseOD'] = base_metrics\n",
    "results['fairOD'] = fair_metrics\n",
    "results['In paper fairOD'] = ['0.9-1.5', '0.9-1.5', '0.8-1', '-', '0.4-1']\n",
    "\n",
    "results"
   ]
  },
  {
   "cell_type": "markdown",
   "metadata": {},
   "source": [
    "For all these metrics the ideal value is 1. This means it classifies samples as outliers equally between groups and hence is fair! \n",
    "\n",
    "In these results we see that fairOD tends to do slightly better than baseOD. Note also that our results are similar very close to those on presented in the paper."
   ]
  },
  {
   "cell_type": "markdown",
   "metadata": {},
   "source": [
    "Now, AUC score..."
   ]
  },
  {
   "cell_type": "code",
   "execution_count": 19,
   "metadata": {},
   "outputs": [],
   "source": [
    "from sklearn.metrics import roc_auc_score"
   ]
  },
  {
   "cell_type": "code",
   "execution_count": 20,
   "metadata": {},
   "outputs": [
    {
     "name": "stdout",
     "output_type": "stream",
     "text": [
      "AUC baseOD   0.678514504699269\n",
      "AUC fairOD   0.6819612052497408\n"
     ]
    }
   ],
   "source": [
    "print(\"AUC baseOD  \", roc_auc_score(y_test, os_base))\n",
    "print(\"AUC fairOD  \", roc_auc_score(y_test, os_fair))"
   ]
  },
  {
   "cell_type": "markdown",
   "metadata": {},
   "source": [
    "The autoencoder regularized with the FAIROD terms, seems to have similar predictive power"
   ]
  },
  {
   "cell_type": "markdown",
   "metadata": {},
   "source": [
    "# Automated version!"
   ]
  },
  {
   "cell_type": "markdown",
   "metadata": {},
   "source": [
    "This repo contains the former functionality wrapped inside a class: `OutlierDetector`"
   ]
  },
  {
   "cell_type": "markdown",
   "metadata": {},
   "source": [
    "**FairOD Base**"
   ]
  },
  {
   "cell_type": "code",
   "execution_count": 33,
   "metadata": {},
   "outputs": [],
   "source": [
    "model = OutlierDetector(alpha=0.1, gamma=0.1)\n",
    "_, _ = model.fit(X_train, pv_train, batch_size=512, epochs=3, val_X=X_test, val_pv=pv_test)"
   ]
  },
  {
   "cell_type": "code",
   "execution_count": 34,
   "metadata": {},
   "outputs": [
    {
     "name": "stdout",
     "output_type": "stream",
     "text": [
      "AUC score:    0.6699077571266636\n"
     ]
    }
   ],
   "source": [
    "from sklearn.metrics import roc_auc_score\n",
    "\n",
    "# save predictions\n",
    "X_pred = model.predict_scores(X_test).numpy()\n",
    "\n",
    "# AUC score\n",
    "print(\"AUC score:   \", roc_auc_score(y_test, X_pred))"
   ]
  },
  {
   "cell_type": "markdown",
   "metadata": {},
   "source": [
    "**Score guided AE + FairODLoss**\n",
    "\n",
    "Now, we can do the same but with the alternative. The Score Guided OD (`SGOutlierDetector`)"
   ]
  },
  {
   "cell_type": "code",
   "execution_count": 35,
   "metadata": {},
   "outputs": [],
   "source": [
    "SEED = 33\n",
    "tf.random.set_seed(SEED)\n",
    "np.random.seed(SEED)"
   ]
  },
  {
   "cell_type": "code",
   "execution_count": 36,
   "metadata": {
    "scrolled": true,
    "tags": []
   },
   "outputs": [],
   "source": [
    "model = SGOutlierDetector(epsilon=0.001, \n",
    "                          lambda_se=4.86, \n",
    "                          lambda_a=25.0,\n",
    "                          a=20, \n",
    "                          alpha=0.01, \n",
    "                          gamma=0.25)\n",
    "\n",
    "\n",
    "_, _ = model.fit(X_train, pv_train, batch_size=512, epochs=3, val_X=X_test, val_pv=pv_test)"
   ]
  },
  {
   "cell_type": "code",
   "execution_count": 37,
   "metadata": {},
   "outputs": [
    {
     "name": "stdout",
     "output_type": "stream",
     "text": [
      "AUC score:    0.6628512443631935\n"
     ]
    }
   ],
   "source": [
    "from sklearn.metrics import roc_auc_score\n",
    "\n",
    "# save predictions\n",
    "X_pred = model.predict_scores(X_test).numpy()\n",
    "\n",
    "# AUC score\n",
    "print(\"AUC score:   \", roc_auc_score(y_test, X_pred))"
   ]
  },
  {
   "cell_type": "code",
   "execution_count": 38,
   "metadata": {},
   "outputs": [],
   "source": [
    "fair_metrics = [\n",
    "    evaluation.compute_AP_ratio(y_test, X_pred, pv_test), \n",
    "    evaluation.compute_precision_ratio(y_test, X_pred, pv_test), \n",
    "    evaluation.compute_Fairness_metric(y_test, X_pred, pv_test).numpy(), \n",
    "    #evaluation.compute_GF_metric(os_fair, pv_test).numpy(), \n",
    "    #evaluation.compute_rankAgreement_metric(y_test, X_pred, os_fair)\n",
    "]\n",
    "\n",
    "metric_names = ['AP_Ratio', 'Precision Ratio', 'Fairness metric']"
   ]
  },
  {
   "cell_type": "code",
   "execution_count": 39,
   "metadata": {},
   "outputs": [
    {
     "name": "stdout",
     "output_type": "stream",
     "text": [
      "AP_Ratio: 0.8958150923213005\n",
      "Precision Ratio: 0.8929765886287625\n",
      "Fairness metric: 0.8792555163398873\n"
     ]
    }
   ],
   "source": [
    "for name, metric in zip(metric_names, fair_metrics):\n",
    "    print(f\"{name}: {metric}\")"
   ]
  },
  {
   "cell_type": "code",
   "execution_count": null,
   "metadata": {},
   "outputs": [],
   "source": []
  }
 ],
 "metadata": {
  "interpreter": {
   "hash": "e66f873cad06fd643a4d79d6fc2a7fb8f93816e60cc3b0c484cd0f609b555411"
  },
  "kernelspec": {
   "display_name": "Python 3",
   "language": "python",
   "name": "python3"
  },
  "language_info": {
   "codemirror_mode": {
    "name": "ipython",
    "version": 3
   },
   "file_extension": ".py",
   "mimetype": "text/x-python",
   "name": "python",
   "nbconvert_exporter": "python",
   "pygments_lexer": "ipython3",
   "version": "3.7.10"
  }
 },
 "nbformat": 4,
 "nbformat_minor": 4
}
