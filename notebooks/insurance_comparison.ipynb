{
 "cells": [
  {
   "cell_type": "code",
   "execution_count": 1,
   "metadata": {},
   "outputs": [],
   "source": [
    "%load_ext autoreload\n",
    "%autoreload 2"
   ]
  },
  {
   "cell_type": "code",
   "execution_count": 1,
   "metadata": {},
   "outputs": [],
   "source": [
    "import seaborn as sns"
   ]
  },
  {
   "cell_type": "code",
   "execution_count": 2,
   "metadata": {},
   "outputs": [],
   "source": [
    "import pandas as pd\n",
    "import numpy as np\n",
    "import tensorflow as tf\n",
    "import matplotlib.pyplot as plt\n",
    "from sklearn.model_selection import train_test_split\n",
    "\n",
    "import sys\n",
    "sys.path.append('../src')\n",
    "\n",
    "\n",
    "from fairsgod.losses import FairODLoss\n",
    "from fairsgod.fairod import OutlierDetector\n",
    "from fairsgod.fairod_sg import SGOutlierDetector\n",
    "from fairsgod import evaluation\n",
    "from sklearn.metrics import roc_auc_score"
   ]
  },
  {
   "cell_type": "code",
   "execution_count": 3,
   "metadata": {},
   "outputs": [],
   "source": [
    "SEED = 33\n",
    "tf.random.set_seed(SEED)\n",
    "np.random.seed(SEED)"
   ]
  },
  {
   "cell_type": "code",
   "execution_count": 4,
   "metadata": {},
   "outputs": [],
   "source": [
    "# load adult\n",
    "insurance_df = pd.read_csv('../datasets/proc/crafted_insurance.csv')\n",
    "\n",
    "y_pv = insurance_df[['target','sex']]\n",
    "X = adult_df.drop(columns=['target', 'sex'])\n",
    "\n",
    "X_train, X_test, y_pv_train, y_pv_test = train_test_split(X, y_pv, test_size=0.3, shuffle=True)\n",
    "\n",
    "pv_test = y_pv_test['sex']\n",
    "pv_train = y_pv_train['sex']\n",
    "y_train = y_pv_train['target']\n",
    "y_test = y_pv_test['target']"
   ]
  },
  {
   "cell_type": "markdown",
   "metadata": {},
   "source": [
    "FairOD on adult dataset"
   ]
  },
  {
   "cell_type": "code",
   "execution_count": 5,
   "metadata": {},
   "outputs": [],
   "source": [
    "model = OutlierDetector(alpha=0.1, gamma=0.8)\n",
    "_, _ = model.fit(X_train, pv_train, batch_size=512, epochs=6, val_X=X_test, val_pv=pv_test)"
   ]
  },
  {
   "cell_type": "markdown",
   "metadata": {},
   "source": [
    "Predict"
   ]
  },
  {
   "cell_type": "code",
   "execution_count": 6,
   "metadata": {},
   "outputs": [],
   "source": [
    "# predict\n",
    "X_pred = model.predict_scores(X_test)\n",
    "\n",
    "# compute reconstruction error of predicted samples and save in dataframe\n",
    "#outlier_score = evalu.compute_outlier_scores(X_test, X_pred)\n",
    "outlier_score = X_pred\n",
    "pred_df = pd.DataFrame({'Reconstruction_error':outlier_score, 'True_class': y_test})"
   ]
  },
  {
   "cell_type": "markdown",
   "metadata": {},
   "source": [
    "Evaluate"
   ]
  },
  {
   "cell_type": "code",
   "execution_count": 7,
   "metadata": {},
   "outputs": [
    {
     "name": "stdout",
     "output_type": "stream",
     "text": [
      "AUC score:    0.5632124352331607\n",
      "AUC RATIO:    0.8031968031968032\n",
      "AP RATIO  3.691267171108187\n",
      "PRECISION RATIO  3.25\n",
      "FAIRNESS METRIC   0.8578680203045685\n",
      "GROUP FIDELITY METRIC   1.2845802\n"
     ]
    }
   ],
   "source": [
    "print(\"AUC score:   \", roc_auc_score(y_test, X_pred))\n",
    "print(\"AUC RATIO:   \", evaluation.auc_ratio(y_test, X_pred, pv_test))\n",
    "# AP ratio\n",
    "print(\"AP RATIO \", evaluation.compute_AP_ratio(y_test, outlier_score, pv_test))\n",
    "# Precision ratio\n",
    "print(\"PRECISION RATIO \", evaluation.compute_precision_ratio(y_test, outlier_score, pv_test))\n",
    "# Fairness metric\n",
    "print(\"FAIRNESS METRIC  \", evaluation.compute_Fairness_metric(y_test, outlier_score, pv_test).numpy())\n",
    "# Group Fidelity metric\n",
    "print(\"GROUP FIDELITY METRIC  \", evaluation.compute_GF_metric(outlier_score, pv_test).numpy())"
   ]
  },
  {
   "cell_type": "code",
   "execution_count": null,
   "metadata": {},
   "outputs": [],
   "source": []
  },
  {
   "cell_type": "code",
   "execution_count": null,
   "metadata": {},
   "outputs": [],
   "source": []
  },
  {
   "cell_type": "code",
   "execution_count": null,
   "metadata": {},
   "outputs": [],
   "source": []
  },
  {
   "cell_type": "markdown",
   "metadata": {},
   "source": [
    "## SG-AE Method"
   ]
  },
  {
   "cell_type": "code",
   "execution_count": 8,
   "metadata": {},
   "outputs": [],
   "source": [
    "from fairsgod.losses import FairODLoss\n",
    "from fairsgod.fairod import OutlierDetector\n",
    "from fairsgod.fairod_sg import SGOutlierDetector\n",
    "from fairsgod import evaluation"
   ]
  },
  {
   "cell_type": "code",
   "execution_count": 9,
   "metadata": {},
   "outputs": [],
   "source": [
    "SEED = 33\n",
    "tf.random.set_seed(SEED)\n",
    "np.random.seed(SEED)"
   ]
  },
  {
   "cell_type": "code",
   "execution_count": 10,
   "metadata": {
    "scrolled": true,
    "tags": []
   },
   "outputs": [],
   "source": [
    "model = SGOutlierDetector(epsilon=0.001, \n",
    "                          lambda_se=4.86, \n",
    "                          lambda_a=25.0,\n",
    "                          a=20, \n",
    "                          alpha=0.01, \n",
    "                          gamma=0.8)\n",
    "\n",
    "\n",
    "_, _ = model.fit(X_train, pv_train, batch_size=512, epochs=6, val_X=X_test, val_pv=pv_test)"
   ]
  },
  {
   "cell_type": "code",
   "execution_count": 12,
   "metadata": {},
   "outputs": [
    {
     "name": "stdout",
     "output_type": "stream",
     "text": [
      "AUC score:    0.7967184801381693\n",
      "AUC RATIO:    1.3379193750546536\n",
      "AP RATIO  3.691267171108187\n",
      "PRECISION RATIO  3.25\n",
      "FAIRNESS METRIC   0.8578680203045685\n",
      "GROUP FIDELITY METRIC   1.2845802\n"
     ]
    }
   ],
   "source": [
    "print(\"AUC score:   \", roc_auc_score(y_test, X_pred))\n",
    "print(\"AUC RATIO:   \", evaluation.auc_ratio(y_test, X_pred, pv_test))\n",
    "# AP ratio\n",
    "print(\"AP RATIO \", evaluation.compute_AP_ratio(y_test, outlier_score, pv_test))\n",
    "# Precision ratio\n",
    "print(\"PRECISION RATIO \", evaluation.compute_precision_ratio(y_test, outlier_score, pv_test))\n",
    "# Fairness metric\n",
    "print(\"FAIRNESS METRIC  \", evaluation.compute_Fairness_metric(y_test, outlier_score, pv_test).numpy())\n",
    "# Group Fidelity metric\n",
    "print(\"GROUP FIDELITY METRIC  \", evaluation.compute_GF_metric(outlier_score, pv_test).numpy())"
   ]
  },
  {
   "cell_type": "code",
   "execution_count": null,
   "metadata": {},
   "outputs": [],
   "source": []
  }
 ],
 "metadata": {
  "interpreter": {
   "hash": "e66f873cad06fd643a4d79d6fc2a7fb8f93816e60cc3b0c484cd0f609b555411"
  },
  "kernelspec": {
   "display_name": "Python 3",
   "language": "python",
   "name": "python3"
  },
  "language_info": {
   "codemirror_mode": {
    "name": "ipython",
    "version": 3
   },
   "file_extension": ".py",
   "mimetype": "text/x-python",
   "name": "python",
   "nbconvert_exporter": "python",
   "pygments_lexer": "ipython3",
   "version": "3.7.10"
  }
 },
 "nbformat": 4,
 "nbformat_minor": 4
}
