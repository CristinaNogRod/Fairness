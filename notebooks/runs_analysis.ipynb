{
 "cells": [
  {
   "cell_type": "code",
   "execution_count": 1,
   "metadata": {},
   "outputs": [],
   "source": [
    "import json\n",
    "import numpy as np\n",
    "import os\n",
    "import glob\n",
    "\n",
    "from tabulate import tabulate"
   ]
  },
  {
   "cell_type": "code",
   "execution_count": 6,
   "metadata": {},
   "outputs": [],
   "source": [
    "CONTAINER_PATH = '/Users/criss/Downloads/celeba_reports' #change"
   ]
  },
  {
   "cell_type": "code",
   "execution_count": 35,
   "metadata": {},
   "outputs": [],
   "source": [
    "def print_stats(dataset, data_path=CONTAINER_PATH):\n",
    "    aucs_sgod = []\n",
    "    aucs_fairod = []\n",
    "    \n",
    "    for filepath in glob.glob(CONTAINER_PATH + f'/report_{dataset}_*.json'): #check \"/report_{dataset}_*.json\" is of correct form\n",
    "        with open(filepath, 'r') as fi:\n",
    "            j = json.load(fi)\n",
    "\n",
    "            aucs_sgod.append(j['metrics_fsgod']['auc'])\n",
    "            aucs_fairod.append(j['metrics_fairod']['auc'])\n",
    "            \n",
    "    data = {\"Method\": ['FairOD'              , 'FSGOD'], \n",
    "            \"Mean AUC\": [np.mean(aucs_fairod), np.mean(aucs_sgod)],\n",
    "            \"Std AUC\": [np.std(aucs_fairod), np.std(aucs_sgod)],\n",
    "    }\n",
    "    \n",
    "    print(tabulate(data, headers = 'keys'))"
   ]
  },
  {
   "cell_type": "markdown",
   "metadata": {},
   "source": [
    "## AUC Metric analysis"
   ]
  },
  {
   "cell_type": "code",
   "execution_count": 4,
   "metadata": {},
   "outputs": [
    {
     "name": "stdout",
     "output_type": "stream",
     "text": [
      "Method      Mean AUC    Std AUC\n",
      "--------  ----------  ---------\n",
      "FairOD           nan        nan\n",
      "FSGOD            nan        nan\n"
     ]
    },
    {
     "name": "stderr",
     "output_type": "stream",
     "text": [
      "/Users/criss/miniforge3/envs/jj/lib/python3.9/site-packages/numpy/core/fromnumeric.py:3440: RuntimeWarning: Mean of empty slice.\n",
      "  return _methods._mean(a, axis=axis, dtype=dtype,\n",
      "/Users/criss/miniforge3/envs/jj/lib/python3.9/site-packages/numpy/core/_methods.py:189: RuntimeWarning: invalid value encountered in double_scalars\n",
      "  ret = ret.dtype.type(ret / rcount)\n",
      "/Users/criss/miniforge3/envs/jj/lib/python3.9/site-packages/numpy/core/_methods.py:262: RuntimeWarning: Degrees of freedom <= 0 for slice\n",
      "  ret = _var(a, axis=axis, dtype=dtype, out=out, ddof=ddof,\n",
      "/Users/criss/miniforge3/envs/jj/lib/python3.9/site-packages/numpy/core/_methods.py:222: RuntimeWarning: invalid value encountered in true_divide\n",
      "  arrmean = um.true_divide(arrmean, div, out=arrmean, casting='unsafe',\n",
      "/Users/criss/miniforge3/envs/jj/lib/python3.9/site-packages/numpy/core/_methods.py:254: RuntimeWarning: invalid value encountered in double_scalars\n",
      "  ret = ret.dtype.type(ret / rcount)\n"
     ]
    }
   ],
   "source": [
    "print_stats(\"bank\")"
   ]
  },
  {
   "cell_type": "code",
   "execution_count": 19,
   "metadata": {},
   "outputs": [
    {
     "name": "stdout",
     "output_type": "stream",
     "text": [
      "Method      Mean AUC     Std AUC\n",
      "--------  ----------  ----------\n",
      "FairOD      0.695892  0.00854808\n",
      "FSGOD       0.836767  0.00914722\n"
     ]
    }
   ],
   "source": [
    "print_stats(\"kdd\")"
   ]
  },
  {
   "cell_type": "code",
   "execution_count": 20,
   "metadata": {},
   "outputs": [
    {
     "name": "stdout",
     "output_type": "stream",
     "text": [
      "Method      Mean AUC    Std AUC\n",
      "--------  ----------  ---------\n",
      "FairOD      0.43056   0.0210048\n",
      "FSGOD       0.431513  0.064912\n"
     ]
    }
   ],
   "source": [
    "print_stats(\"credit\")"
   ]
  },
  {
   "cell_type": "code",
   "execution_count": 21,
   "metadata": {},
   "outputs": [
    {
     "name": "stdout",
     "output_type": "stream",
     "text": [
      "Method      Mean AUC    Std AUC\n",
      "--------  ----------  ---------\n",
      "FairOD      0.510784  0.0410351\n",
      "FSGOD       0.75178   0.046018\n"
     ]
    }
   ],
   "source": [
    "print_stats(\"adult\")"
   ]
  },
  {
   "cell_type": "code",
   "execution_count": 22,
   "metadata": {},
   "outputs": [
    {
     "name": "stdout",
     "output_type": "stream",
     "text": [
      "Method      Mean AUC    Std AUC\n",
      "--------  ----------  ---------\n",
      "FairOD      0.493194  0.0994887\n",
      "FSGOD       0.52425   0.157136\n"
     ]
    }
   ],
   "source": [
    "print_stats(\"insurance\")"
   ]
  },
  {
   "cell_type": "code",
   "execution_count": 36,
   "metadata": {},
   "outputs": [
    {
     "name": "stdout",
     "output_type": "stream",
     "text": [
      "Method      Mean AUC    Std AUC\n",
      "--------  ----------  ---------\n",
      "FairOD      0.309022  0.0463688\n",
      "FSGOD       0.631033  0.0524163\n"
     ]
    }
   ],
   "source": [
    "print_stats(\"celeba\")"
   ]
  }
 ],
 "metadata": {
  "kernelspec": {
   "display_name": "Python 3",
   "language": "python",
   "name": "python3"
  },
  "language_info": {
   "codemirror_mode": {
    "name": "ipython",
    "version": 3
   },
   "file_extension": ".py",
   "mimetype": "text/x-python",
   "name": "python",
   "nbconvert_exporter": "python",
   "pygments_lexer": "ipython3",
   "version": "3.7.6"
  }
 },
 "nbformat": 4,
 "nbformat_minor": 4
}
