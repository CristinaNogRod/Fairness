{
 "cells": [
  {
   "cell_type": "code",
   "execution_count": 16,
   "metadata": {},
   "outputs": [],
   "source": [
    "import json\n",
    "import numpy as np\n",
    "import os\n",
    "import glob\n",
    "\n",
    "from tabulate import tabulate"
   ]
  },
  {
   "cell_type": "code",
   "execution_count": 3,
   "metadata": {},
   "outputs": [],
   "source": [
    "CONTAINER_PATH = '/Users/air/Downloads/Runs/reports/'"
   ]
  },
  {
   "cell_type": "code",
   "execution_count": 17,
   "metadata": {},
   "outputs": [],
   "source": [
    "def print_stats(dataset, data_path=CONTAINER_PATH):\n",
    "    aucs_sgod = []\n",
    "    aucs_fairod = []\n",
    "    \n",
    "    for filepath in glob.glob(CONTAINER_PATH + f'runs_{dataset}/*.json'):\n",
    "        with open(filepath, 'r') as fi:\n",
    "            j = json.load(fi)\n",
    "\n",
    "            aucs_sgod.append(j['metrics_fsgod']['auc'])\n",
    "            aucs_fairod.append(j['metrics_fairod']['auc'])\n",
    "            \n",
    "    data = {\"Method\": ['FairOD'              , 'FSGOD'], \n",
    "            \"Mean AUC\": [np.mean(aucs_fairod), np.mean(aucs_sgod)],\n",
    "            \"Std AUC\": [np.std(aucs_fairod), np.std(aucs_sgod)],\n",
    "    }\n",
    "    \n",
    "    print(tabulate(data, headers = 'keys'))"
   ]
  },
  {
   "cell_type": "markdown",
   "metadata": {},
   "source": [
    "## AUC Metric analysis"
   ]
  },
  {
   "cell_type": "code",
   "execution_count": 18,
   "metadata": {},
   "outputs": [
    {
     "name": "stdout",
     "output_type": "stream",
     "text": [
      "Method      Mean AUC    Std AUC\n",
      "--------  ----------  ---------\n",
      "FairOD      0.533641  0.0735697\n",
      "FSGOD       0.72897   0.0263555\n"
     ]
    }
   ],
   "source": [
    "print_stats(\"bank\")"
   ]
  },
  {
   "cell_type": "code",
   "execution_count": 19,
   "metadata": {},
   "outputs": [
    {
     "name": "stdout",
     "output_type": "stream",
     "text": [
      "Method      Mean AUC     Std AUC\n",
      "--------  ----------  ----------\n",
      "FairOD      0.695892  0.00854808\n",
      "FSGOD       0.836767  0.00914722\n"
     ]
    }
   ],
   "source": [
    "print_stats(\"kdd\")"
   ]
  },
  {
   "cell_type": "code",
   "execution_count": 20,
   "metadata": {},
   "outputs": [
    {
     "name": "stdout",
     "output_type": "stream",
     "text": [
      "Method      Mean AUC    Std AUC\n",
      "--------  ----------  ---------\n",
      "FairOD      0.43056   0.0210048\n",
      "FSGOD       0.431513  0.064912\n"
     ]
    }
   ],
   "source": [
    "print_stats(\"credit\")"
   ]
  },
  {
   "cell_type": "code",
   "execution_count": 21,
   "metadata": {},
   "outputs": [
    {
     "name": "stdout",
     "output_type": "stream",
     "text": [
      "Method      Mean AUC    Std AUC\n",
      "--------  ----------  ---------\n",
      "FairOD      0.510784  0.0410351\n",
      "FSGOD       0.75178   0.046018\n"
     ]
    }
   ],
   "source": [
    "print_stats(\"adult\")"
   ]
  },
  {
   "cell_type": "code",
   "execution_count": 22,
   "metadata": {},
   "outputs": [
    {
     "name": "stdout",
     "output_type": "stream",
     "text": [
      "Method      Mean AUC    Std AUC\n",
      "--------  ----------  ---------\n",
      "FairOD      0.493194  0.0994887\n",
      "FSGOD       0.52425   0.157136\n"
     ]
    }
   ],
   "source": [
    "print_stats(\"insurance\")"
   ]
  }
 ],
 "metadata": {
  "kernelspec": {
   "display_name": "Python 3",
   "language": "python",
   "name": "python3"
  },
  "language_info": {
   "codemirror_mode": {
    "name": "ipython",
    "version": 3
   },
   "file_extension": ".py",
   "mimetype": "text/x-python",
   "name": "python",
   "nbconvert_exporter": "python",
   "pygments_lexer": "ipython3",
   "version": "3.7.6"
  }
 },
 "nbformat": 4,
 "nbformat_minor": 4
}
